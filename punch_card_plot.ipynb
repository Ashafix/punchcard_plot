{
 "cells": [
  {
   "cell_type": "code",
   "execution_count": 1,
   "metadata": {
    "collapsed": true
   },
   "outputs": [],
   "source": [
    "import pandas as pd\n",
    "import random\n",
    "import math\n",
    "import plotly\n"
   ]
  },
  {
   "cell_type": "code",
   "execution_count": 782,
   "metadata": {
    "collapsed": false
   },
   "outputs": [],
   "source": [
    "def punch_card(raw_data_x, \n",
    "               raw_data_y, \n",
    "               raw_data_values, \n",
    "               raw_data_colors=None, \n",
    "               verbose=False,\n",
    "               validate=True,\n",
    "               layout=dict(),\n",
    "               outer_color='rgb(0, 0, 0)',\n",
    "               outer_width=2,\n",
    "               size_format='.2f',\n",
    "               size_marker=dict(min='min', \n",
    "                               middle='mean', \n",
    "                               max='max'),\n",
    "               fillcolor='blue',\n",
    "               number_format='.2f',\n",
    "               place_markers=True,\n",
    "               normalize=True,\n",
    "               max_size=25,\n",
    "               min_size=5,\n",
    "               color_bar_len=0.8,\n",
    "               color_bar_y=0.35,\n",
    "               marker_symbol='circle',\n",
    "               equal_size_markers=False,\n",
    "               colorscale='Jet',\n",
    "               hoverinfo='x+y+text',\n",
    "               debug=False,\n",
    "               other_params=dict()\n",
    "              ):\n",
    "    \"\"\"\n",
    "    \n",
    "    raw_data_x: the x-values\n",
    "    raw_data_y: the y-values\n",
    "    raw_data_values: the values associated with each x and y value\n",
    "    raw_data_colors: Either None or an array of colors which are used in addition to raw_data_values which are used for the size, \n",
    "        if None and validate=True raw_data_values is used for the colors\n",
    "    verbose: boolean, prints info messages\n",
    "    validate: boolean, whether input values should be checked and raw_data_values adjusted to x and y values\n",
    "    layout: dict, layout parameters which are passed to layout, default: dict()\n",
    "    \n",
    "    size_format: the number format in the legend, default=\".2f\"\n",
    "    \n",
    "    normalize: boolean, whether raw_data_values are normalized to min and max (0 to 1), \n",
    "        ignored if equal_size_marker is True\n",
    "    max_size: maximum size of markers (1 in normalized raw_data_values)\n",
    "    min_size: minimum size of markers (0 in normalized raw_data_values\n",
    "    equal_size_markers: boolean, markers are all equal size, color is derived from raw_data_values\n",
    "    colorscale: either a named colorscale or an array with values and colors\n",
    "    hoverinfo: Plotly parameter\n",
    "    color_bar_len: Plotly parameter, length of colobar (0 to 1)\n",
    "    color_bar_y: Plotly parameter, y position of colorbar\n",
    "    marker_symbol: Plotly parameter, symbol for markers\n",
    "    debug: bolean, print debug messages\n",
    "    outer_color: the color circling the dots\n",
    "    outer_width: the widht of the line circling the dots\n",
    "    place_markers: whether legend with markers size and colors should appear, default=True\n",
    "    background: TODO, needed?, the background color your plot  \n",
    "    \"\"\"\n",
    "    \n",
    "    if validate:\n",
    "        #take colors from values if needed\n",
    "        if not raw_data_colors:\n",
    "            raw_data_colors = raw_data_values.copy()\n",
    "            if verbose:\n",
    "                print('Colors are taken from values')\n",
    "        \n",
    "        \n",
    "        #adjust raw_data_x and raw_data_y to the size of raw_data_values\n",
    "        len_data_values = len(raw_data_values)\n",
    "        if len(raw_data_y) < len_data_values:\n",
    "            raw_data_y_new = list()\n",
    "            for r in range(math.ceil(len_data_values / len(raw_data_y))):\n",
    "                for i in range(len(raw_data_y)):\n",
    "                    raw_data_y_new.extend(raw_data_y[i:i+1] * len(raw_data_x))\n",
    "            raw_data_y = raw_data_y_new[0:len_data_values]\n",
    "            raw_data_y = (raw_data_y * math.ceil(len_data_values / len(raw_data_y)))[0:len_data_values]        \n",
    "        if len(raw_data_x) < len_data_values:\n",
    "            raw_data_x = (raw_data_x * math.ceil(len_data_values / len(raw_data_x)))[0:len_data_values]\n",
    "\n",
    "    \n",
    "    size_factor = dict(min=min(raw_data_values),\n",
    "                       max=max(raw_data_values))\n",
    "    \n",
    "    if debug:\n",
    "        print('raw data values')\n",
    "        print(raw_data_values)\n",
    "\n",
    "\n",
    "    cmin = min(raw_data_values)\n",
    "    cmax = max(raw_data_values)\n",
    "\n",
    "    size_factor=dict(min=cmin,\n",
    "                     max=cmax)\n",
    "\n",
    "    if equal_size_markers:\n",
    "        relative_size = 1\n",
    "        sizes = max_size\n",
    "    elif normalize:\n",
    "        relative_size = abs(size_factor['max'] - size_factor['min'])\n",
    "        sizes = [min_size + (raw - size_factor['min']) / relative_size * (max_size - min_size) for raw in raw_data_values]\n",
    "    else:\n",
    "        relative_size = 1\n",
    "        sizes = raw_data_values.copy()\n",
    "        \n",
    "    if debug:\n",
    "        print('sizes')\n",
    "        print(sizes)\n",
    "        print('min/max')\n",
    "        print(cmin, cmax)\n",
    "    \n",
    "    all_params = other_params.copy()\n",
    "    all_params['x'] = raw_data_x\n",
    "    all_params['y'] = raw_data_y\n",
    "    all_params['mode'] = 'markers'\n",
    "    if all_params.get('marker'):\n",
    "        all_params['marker']['symbol'] = marker_symbol\n",
    "        all_params['marker']['size'] = sizes\n",
    "        all_params['marker']['color'] = color=raw_data_values\n",
    "        all_params['marker']['colorscale'] = colorscale\n",
    "        all_params['marker']['showscale'] = True\n",
    "        if all_params['marker'].get('colorbar'):\n",
    "            all_params['marker']['colorbar'].update(dict(len=color_bar_len, \n",
    "                                                         y=color_bar_y)\n",
    "                                                    )\n",
    "        else:\n",
    "            all_params['marker']['colorbar'] = dict(len=color_bar_len, \n",
    "                                                    y=color_bar_y)\n",
    "            \n",
    "                                               \n",
    "        if all_params['marker'].get('line'):\n",
    "            all_params['marker']['line'].update(dict(color=outer_color,\n",
    "                                                     width=2)\n",
    "                                               )\n",
    "        else:\n",
    "            all_params['marker']['line'] = (dict(color=outer_color,\n",
    "                                                 width=2)\n",
    "                                           )\n",
    "    else:\n",
    "        all_params['marker'] = dict(symbol=marker_symbol,\n",
    "                                    size=sizes,\n",
    "                                    color=raw_data_values,\n",
    "                                    colorscale=colorscale, \n",
    "                                    showscale=True,\n",
    "                                    colorbar=dict(len=color_bar_len, \n",
    "                                                  y=color_bar_y),\n",
    "                                    line=dict(color=outer_color,\n",
    "                                              width=2)\n",
    "                                    )\n",
    "                               \n",
    "    \n",
    "    all_params['text'] = raw_data_values\n",
    "    all_params['hoverinfo'] = hoverinfo\n",
    "    all_params['showlegend'] = False\n",
    "    \n",
    "                                         \n",
    "    circles = [plotly.graph_objs.Scatter(all_params)\n",
    "              ]\n",
    "\n",
    "    if place_markers:\n",
    "        size_marker_keys = ('min', 'middle', 'max')\n",
    "        size_markers = [0, 0, 0]\n",
    "    else:\n",
    "        #skip the following blocks\n",
    "        size_marker_keys = list()\n",
    "    if validate:\n",
    "        for k in size_marker_keys:\n",
    "            if k not in size_marker.keys():\n",
    "                print('Size marker needs the following keys: min, middle, max')\n",
    "            if size_marker[k] not in ('min', 'max', 'mean', 'median', 'avg', 'average'):\n",
    "                print('Size marker can have the following values: min, max, mean, median, avg, average')\n",
    "               \n",
    "    if place_markers:\n",
    "        size_marker_keys = ('min', 'middle', 'max')\n",
    "    else:\n",
    "        #skip the following block\n",
    "        size_marker_keys = list()\n",
    "        \n",
    "    for size in size_marker_keys:\n",
    "        if equal_size_markers:\n",
    "            size_markers[size_marker_keys.index(size)] = max_size\n",
    "            #background = size_markers[size_marker_keys.index(size)]\n",
    "        if size_marker[size] == 'min':\n",
    "            marker_background = min(raw_data_values)\n",
    "            marker_name = 'Min:  {0:{number_format}}'.format(marker_background, number_format=number_format)\n",
    "            if normalize:\n",
    "                size_markers[0] = min_size\n",
    "            else:\n",
    "                size_markers[0] = cmin\n",
    "            \n",
    "        elif size_marker[size] == 'max':\n",
    "            marker_background = max(raw_data_values)\n",
    "            marker_name = 'Max:  {0:{number_format}}'.format(marker_background, number_format=number_format)\n",
    "            if normalize:\n",
    "                size_markers[2] = max_size\n",
    "            else:\n",
    "                size_markers[2] = cmax\n",
    "            \n",
    "        elif size_marker[size] in ('mean', 'average', 'avg'):\n",
    "            if 'numpy' in sys.modules:\n",
    "                #TO DO\n",
    "                size_markers[1] = sum(raw_data_values) / len(raw_data_values)\n",
    "            else:\n",
    "                size_markers[1] = sum(raw_data_values) / len(raw_data_values)\n",
    "            \n",
    "            \n",
    "            marker_name = 'Mean: {0:{number_format}}'.format(size_markers[1], number_format=number_format)\n",
    "            marker_background = size_markers[1]\n",
    "            if debug:\n",
    "                print('##########')\n",
    "                print((size_markers[1] - cmin))\n",
    "                print(abs(cmax - cmin))\n",
    "                print((size_markers[1] - cmin) / abs(cmax - cmin))\n",
    "                print((max_size - min_size))\n",
    "            if normalize:          \n",
    "                size_markers[1] = min_size + ((size_markers[1] - cmin) / abs(cmax - cmin)) * (max_size - min_size)\n",
    "            \n",
    "        #TO DO, finish\n",
    "        elif size_marker[size] == 'median':\n",
    "            size_markers[1] = _median(raw_data_values)\n",
    "            marker_background = size_markers[1]\n",
    "            marker_name = 'Median: {0:{number_format}}'.format(size_markers[1], number_format=number_format)\n",
    "            size_markers[1] = (size_markers[1] - min_size) / relative_size * max_size\n",
    "        if equal_size_markers:\n",
    "            size_markers[size_marker_keys.index(size)] = max_size\n",
    "            #background = size_markers[size_marker_keys.index(size)]\n",
    "        \n",
    "        if debug:\n",
    "            print(colorscale)\n",
    "            print((marker_background-cmin)/(cmax-cmin))\n",
    "            print(cmax-cmin)\n",
    "            print('marker size')\n",
    "            print(size_markers[size_marker_keys.index(size)])\n",
    "        all_params = other_params.copy()\n",
    "        all_params['mode'] = 'markers'\n",
    "        \n",
    "        all_params['x'] = raw_data_x[0:1]\n",
    "        all_params['y'] = raw_data_y[0:1]\n",
    "        all_params['name'] = marker_name\n",
    "        all_params['visible'] = 'legendonly'\n",
    "        all_params['showlegend'] = True\n",
    "        all_params['legendgroup'] ='legend_only'\n",
    "        all_params['hoverinfo'] = 'name'\n",
    "        marker_params = dict(symbol=marker_symbol, \n",
    "                             color = intermediate_color(colorscale, \n",
    "                                                        (marker_background-cmin)/(cmax-cmin)\n",
    "                                                       ),\n",
    "                             size=size_markers[size_marker_keys.index(size)],\n",
    "                             line=dict(color=outer_color,\n",
    "                             width=outer_width))\n",
    "        if all_params.get('marker'):\n",
    "            all_params['marker'].update(marker_params)\n",
    "        else:\n",
    "            all_params['marker'] = marker_params\n",
    "                                                 \n",
    "        circles.append(plotly.graph_objs.Scatter(all_params)\n",
    "                      )\n",
    "    \n",
    "    data = plotly.graph_objs.Data(circles)\n",
    "    layout = plotly.graph_objs.Layout(**layout)\n",
    "\n",
    "    return data, layout\n",
    "\n",
    "def _median(values):\n",
    "    \"\"\"taken from https://codereview.stackexchange.com/a/126898\n",
    "    \"\"\"\n",
    "    median = 0\n",
    "    sortedlist = sorted(values)\n",
    "    lengthofthelist = len(sortedlist)\n",
    "    centerofthelist = lengthofthelist / 2\n",
    "    if len(sortedlist) % 2 == 0:\n",
    "        temp = 0.0\n",
    "        medianparties = []\n",
    "        medianparties = sortedlist[centerofthelist -1 : centerofthelist +1 ]\n",
    "        for value in medianparties:\n",
    "            temp += value\n",
    "            median = temp / 2\n",
    "        return median\n",
    "    else:\n",
    "        return sortedlist[centerofthelist]\n",
    "    \n",
    "def intermediate_color(colorscale, new_value):\n",
    "    \"\"\"\n",
    "    \"\"\"\n",
    "    \n",
    "    if isinstance(colorscale, str) and colorscale in plotly.colors.PLOTLY_SCALES:\n",
    "        colorscale = plotly.colors.PLOTLY_SCALES[colorscale]\n",
    "    \n",
    "    if not isinstance(colorscale[0], tuple) and not isinstance(colorscale[0], list):\n",
    "        for i, color in enumerate(colorscale):\n",
    "            colorscale[i] = (i/(len(colorscale) - 1), color)\n",
    "    if isinstance(colorscale[0][1], list):\n",
    "        for i, color in enumerate(colorscale):\n",
    "            colorscale[i] = color[1]\n",
    "    \n",
    "    min_value = (0,0)\n",
    "    max_value = (0,0)\n",
    "    \n",
    "    #find the closest values in the colorscale\n",
    "    for color in colorscale:\n",
    "        if float(color[0]) == float(new_value):\n",
    "            return color[1]\n",
    "        if float(color[0]) < new_value:\n",
    "            min_value = color\n",
    "        elif float(color[0]) > new_value and max_value[0] == 0:\n",
    "            max_value = color\n",
    "            break\n",
    "    if max_value == (0, 0):\n",
    "        max_value = colorscale[-1]\n",
    "    if min_value == (0, 0):\n",
    "        min_value = colorscale[0]\n",
    "    \n",
    "    min_color = plotly.colors.color_parser(min_value[1], plotly.colors.unlabel_rgb)\n",
    "    max_color = plotly.colors.color_parser(max_value[1], plotly.colors.unlabel_rgb)\n",
    "    new_color = plotly.colors.find_intermediate_color(min_color, \n",
    "                                     max_color,\n",
    "                                     (new_value - min_value[0])/(max_value[0] - min_value[0]))\n",
    "    \n",
    "    return (plotly.colors.label_rgb(new_color))"
   ]
  },
  {
   "cell_type": "code",
   "execution_count": null,
   "metadata": {
    "collapsed": true
   },
   "outputs": [],
   "source": []
  },
  {
   "cell_type": "code",
   "execution_count": 703,
   "metadata": {
    "collapsed": false
   },
   "outputs": [],
   "source": [
    "y_len = 7\n",
    "y=['Monday', 'Tuesday', 'Wednesday', 'Thursday', 'Friday', 'Saturday', 'Sunday']\n",
    "data = dict(x=[i for i in range(1, y_len + 1)], \n",
    "            y=y,\n",
    "            value = [random.randrange(-5,7) for i in range(7 * len(y))]\n",
    "           )\n"
   ]
  },
  {
   "cell_type": "code",
   "execution_count": 797,
   "metadata": {
    "collapsed": false
   },
   "outputs": [
    {
     "data": {
      "text/html": [
       "<iframe id=\"igraph\" scrolling=\"no\" style=\"border:none;\" seamless=\"seamless\" src=\"https://plot.ly/~MaxPeters/368.embed\" height=\"525px\" width=\"100%\"></iframe>"
      ],
      "text/plain": [
       "<plotly.tools.PlotlyDisplay object>"
      ]
     },
     "execution_count": 797,
     "metadata": {},
     "output_type": "execute_result"
    }
   ],
   "source": [
    "d, l = punch_card(data['x'], data['y'], data['value'],debug=False)\n",
    "plotly.plotly.iplot(plotly.graph_objs.Figure(data=d, layout=l))"
   ]
  },
  {
   "cell_type": "code",
   "execution_count": 798,
   "metadata": {
    "collapsed": false
   },
   "outputs": [
    {
     "data": {
      "text/html": [
       "<iframe id=\"igraph\" scrolling=\"no\" style=\"border:none;\" seamless=\"seamless\" src=\"https://plot.ly/~MaxPeters/370.embed\" height=\"525px\" width=\"100%\"></iframe>"
      ],
      "text/plain": [
       "<plotly.tools.PlotlyDisplay object>"
      ]
     },
     "execution_count": 798,
     "metadata": {},
     "output_type": "execute_result"
    }
   ],
   "source": [
    "d, l = punch_card(data['x'], data['y'], data['value'])\n",
    "plotly.plotly.iplot(plotly.graph_objs.Figure(data=d, layout=l))"
   ]
  },
  {
   "cell_type": "code",
   "execution_count": 799,
   "metadata": {
    "collapsed": false
   },
   "outputs": [
    {
     "data": {
      "text/html": [
       "<iframe id=\"igraph\" scrolling=\"no\" style=\"border:none;\" seamless=\"seamless\" src=\"https://plot.ly/~MaxPeters/372.embed\" height=\"525px\" width=\"100%\"></iframe>"
      ],
      "text/plain": [
       "<plotly.tools.PlotlyDisplay object>"
      ]
     },
     "execution_count": 799,
     "metadata": {},
     "output_type": "execute_result"
    }
   ],
   "source": [
    "d, l = punch_card(data['x'], data['y'], data['value'], normalize=False)\n",
    "plotly.plotly.iplot(plotly.graph_objs.Figure(data=d, layout=l))"
   ]
  },
  {
   "cell_type": "code",
   "execution_count": 800,
   "metadata": {
    "collapsed": false
   },
   "outputs": [
    {
     "name": "stdout",
     "output_type": "stream",
     "text": [
      "Colors are taken from values\n"
     ]
    },
    {
     "data": {
      "text/html": [
       "<iframe id=\"igraph\" scrolling=\"no\" style=\"border:none;\" seamless=\"seamless\" src=\"https://plot.ly/~MaxPeters/374.embed\" height=\"525px\" width=\"100%\"></iframe>"
      ],
      "text/plain": [
       "<plotly.tools.PlotlyDisplay object>"
      ]
     },
     "execution_count": 800,
     "metadata": {},
     "output_type": "execute_result"
    }
   ],
   "source": [
    "d, l = punch_card(data['x'], data['y'], data['value'], \n",
    "                  verbose=True, \n",
    "                  max_size=20, \n",
    "                  marker_symbol='square', \n",
    "                  equal_size_markers=True, \n",
    "                  colorscale=colorlover.flipper()['seq']['7']['Greens'])\n",
    "plotly.plotly.iplot(plotly.graph_objs.Figure(data=d, layout=l))"
   ]
  },
  {
   "cell_type": "code",
   "execution_count": 787,
   "metadata": {
    "collapsed": false
   },
   "outputs": [
    {
     "data": {
      "application/vnd.plotly.v1+json": {
       "data": [
        {
         "hoverinfo": "x+y+text",
         "marker": {
          "color": [
           1,
           0,
           1,
           4,
           1,
           4,
           2,
           1,
           0,
           1,
           0,
           1,
           0,
           3,
           3,
           3,
           0,
           1,
           0,
           2,
           3,
           1,
           4,
           1,
           1,
           1,
           0,
           3,
           3,
           1,
           0,
           1,
           1,
           1,
           2,
           1,
           2,
           4,
           0,
           4,
           1,
           1,
           0,
           2,
           0,
           3,
           2,
           1,
           4
          ],
          "colorbar": {
           "len": 0.8,
           "y": 0.35
          },
          "colorscale": "Jet",
          "line": {
           "color": "rgb(0, 0, 0)",
           "width": 2
          },
          "showscale": true,
          "size": [
           1,
           0,
           1,
           4,
           1,
           4,
           2,
           1,
           0,
           1,
           0,
           1,
           0,
           3,
           3,
           3,
           0,
           1,
           0,
           2,
           3,
           1,
           4,
           1,
           1,
           1,
           0,
           3,
           3,
           1,
           0,
           1,
           1,
           1,
           2,
           1,
           2,
           4,
           0,
           4,
           1,
           1,
           0,
           2,
           0,
           3,
           2,
           1,
           4
          ],
          "symbol": "circle"
         },
         "mode": "markers",
         "showlegend": false,
         "text": [
          1,
          0,
          1,
          4,
          1,
          4,
          2,
          1,
          0,
          1,
          0,
          1,
          0,
          3,
          3,
          3,
          0,
          1,
          0,
          2,
          3,
          1,
          4,
          1,
          1,
          1,
          0,
          3,
          3,
          1,
          0,
          1,
          1,
          1,
          2,
          1,
          2,
          4,
          0,
          4,
          1,
          1,
          0,
          2,
          0,
          3,
          2,
          1,
          4
         ],
         "type": "scatter",
         "x": [
          1,
          2,
          3,
          4,
          5,
          6,
          7,
          1,
          2,
          3,
          4,
          5,
          6,
          7,
          1,
          2,
          3,
          4,
          5,
          6,
          7,
          1,
          2,
          3,
          4,
          5,
          6,
          7,
          1,
          2,
          3,
          4,
          5,
          6,
          7,
          1,
          2,
          3,
          4,
          5,
          6,
          7,
          1,
          2,
          3,
          4,
          5,
          6,
          7
         ],
         "y": [
          "Monday",
          "Monday",
          "Monday",
          "Monday",
          "Monday",
          "Monday",
          "Monday",
          "Tuesday",
          "Tuesday",
          "Tuesday",
          "Tuesday",
          "Tuesday",
          "Tuesday",
          "Tuesday",
          "Wednesday",
          "Wednesday",
          "Wednesday",
          "Wednesday",
          "Wednesday",
          "Wednesday",
          "Wednesday",
          "Thursday",
          "Thursday",
          "Thursday",
          "Thursday",
          "Thursday",
          "Thursday",
          "Thursday",
          "Friday",
          "Friday",
          "Friday",
          "Friday",
          "Friday",
          "Friday",
          "Friday",
          "Saturday",
          "Saturday",
          "Saturday",
          "Saturday",
          "Saturday",
          "Saturday",
          "Saturday",
          "Sunday",
          "Sunday",
          "Sunday",
          "Sunday",
          "Sunday",
          "Sunday",
          "Sunday"
         ]
        },
        {
         "hoverinfo": "name",
         "legendgroup": "legend_only",
         "marker": {
          "color": "rgb(0,0,131)",
          "line": {
           "color": "rgb(0, 0, 0)",
           "width": 2
          },
          "size": 0,
          "symbol": "circle"
         },
         "mode": "markers",
         "name": "Min:  0.00",
         "showlegend": true,
         "type": "scatter",
         "visible": "legendonly",
         "x": [
          1
         ],
         "y": [
          "Monday"
         ]
        },
        {
         "hoverinfo": "name",
         "legendgroup": "legend_only",
         "marker": {
          "color": "rgb(17.75510204081631, 255.0, 241.98979591836735)",
          "line": {
           "color": "rgb(0, 0, 0)",
           "width": 2
          },
          "size": 1.5510204081632653,
          "symbol": "circle"
         },
         "mode": "markers",
         "name": "Mean: 1.55",
         "showlegend": true,
         "type": "scatter",
         "visible": "legendonly",
         "x": [
          1
         ],
         "y": [
          "Monday"
         ]
        },
        {
         "hoverinfo": "name",
         "legendgroup": "legend_only",
         "marker": {
          "color": "rgb(128,0,0)",
          "line": {
           "color": "rgb(0, 0, 0)",
           "width": 2
          },
          "size": 4,
          "symbol": "circle"
         },
         "mode": "markers",
         "name": "Max:  4.00",
         "showlegend": true,
         "type": "scatter",
         "visible": "legendonly",
         "x": [
          1
         ],
         "y": [
          "Monday"
         ]
        }
       ],
       "layout": {}
      },
      "text/html": [
       "<div id=\"94c9b503-4b3d-4a3f-8c26-16c99985258a\" style=\"height: 525px; width: 100%;\" class=\"plotly-graph-div\"></div><script type=\"text/javascript\">require([\"plotly\"], function(Plotly) { window.PLOTLYENV=window.PLOTLYENV || {};window.PLOTLYENV.BASE_URL=\"https://plot.ly\";Plotly.newPlot(\"94c9b503-4b3d-4a3f-8c26-16c99985258a\", [{\"y\": [\"Monday\", \"Monday\", \"Monday\", \"Monday\", \"Monday\", \"Monday\", \"Monday\", \"Tuesday\", \"Tuesday\", \"Tuesday\", \"Tuesday\", \"Tuesday\", \"Tuesday\", \"Tuesday\", \"Wednesday\", \"Wednesday\", \"Wednesday\", \"Wednesday\", \"Wednesday\", \"Wednesday\", \"Wednesday\", \"Thursday\", \"Thursday\", \"Thursday\", \"Thursday\", \"Thursday\", \"Thursday\", \"Thursday\", \"Friday\", \"Friday\", \"Friday\", \"Friday\", \"Friday\", \"Friday\", \"Friday\", \"Saturday\", \"Saturday\", \"Saturday\", \"Saturday\", \"Saturday\", \"Saturday\", \"Saturday\", \"Sunday\", \"Sunday\", \"Sunday\", \"Sunday\", \"Sunday\", \"Sunday\", \"Sunday\"], \"showlegend\": false, \"mode\": \"markers\", \"text\": [1, 0, 1, 4, 1, 4, 2, 1, 0, 1, 0, 1, 0, 3, 3, 3, 0, 1, 0, 2, 3, 1, 4, 1, 1, 1, 0, 3, 3, 1, 0, 1, 1, 1, 2, 1, 2, 4, 0, 4, 1, 1, 0, 2, 0, 3, 2, 1, 4], \"type\": \"scatter\", \"x\": [1, 2, 3, 4, 5, 6, 7, 1, 2, 3, 4, 5, 6, 7, 1, 2, 3, 4, 5, 6, 7, 1, 2, 3, 4, 5, 6, 7, 1, 2, 3, 4, 5, 6, 7, 1, 2, 3, 4, 5, 6, 7, 1, 2, 3, 4, 5, 6, 7], \"marker\": {\"color\": [1, 0, 1, 4, 1, 4, 2, 1, 0, 1, 0, 1, 0, 3, 3, 3, 0, 1, 0, 2, 3, 1, 4, 1, 1, 1, 0, 3, 3, 1, 0, 1, 1, 1, 2, 1, 2, 4, 0, 4, 1, 1, 0, 2, 0, 3, 2, 1, 4], \"symbol\": \"circle\", \"line\": {\"width\": 2, \"color\": \"rgb(0, 0, 0)\"}, \"colorscale\": \"Jet\", \"colorbar\": {\"y\": 0.35, \"len\": 0.8}, \"showscale\": true, \"size\": [1, 0, 1, 4, 1, 4, 2, 1, 0, 1, 0, 1, 0, 3, 3, 3, 0, 1, 0, 2, 3, 1, 4, 1, 1, 1, 0, 3, 3, 1, 0, 1, 1, 1, 2, 1, 2, 4, 0, 4, 1, 1, 0, 2, 0, 3, 2, 1, 4]}, \"hoverinfo\": \"x+y+text\"}, {\"legendgroup\": \"legend_only\", \"y\": [\"Monday\"], \"showlegend\": true, \"mode\": \"markers\", \"visible\": \"legendonly\", \"name\": \"Min:  0.00\", \"x\": [1], \"marker\": {\"color\": \"rgb(0,0,131)\", \"symbol\": \"circle\", \"line\": {\"width\": 2, \"color\": \"rgb(0, 0, 0)\"}, \"size\": 0}, \"type\": \"scatter\", \"hoverinfo\": \"name\"}, {\"legendgroup\": \"legend_only\", \"y\": [\"Monday\"], \"showlegend\": true, \"mode\": \"markers\", \"visible\": \"legendonly\", \"name\": \"Mean: 1.55\", \"x\": [1], \"marker\": {\"color\": \"rgb(17.75510204081631, 255.0, 241.98979591836735)\", \"symbol\": \"circle\", \"line\": {\"width\": 2, \"color\": \"rgb(0, 0, 0)\"}, \"size\": 1.5510204081632653}, \"type\": \"scatter\", \"hoverinfo\": \"name\"}, {\"legendgroup\": \"legend_only\", \"y\": [\"Monday\"], \"showlegend\": true, \"mode\": \"markers\", \"visible\": \"legendonly\", \"name\": \"Max:  4.00\", \"x\": [1], \"marker\": {\"color\": \"rgb(128,0,0)\", \"symbol\": \"circle\", \"line\": {\"width\": 2, \"color\": \"rgb(0, 0, 0)\"}, \"size\": 4}, \"type\": \"scatter\", \"hoverinfo\": \"name\"}], {}, {\"linkText\": \"Export to plot.ly\", \"showLink\": {}})});</script>"
      ],
      "text/vnd.plotly.v1+html": [
       "<div id=\"94c9b503-4b3d-4a3f-8c26-16c99985258a\" style=\"height: 525px; width: 100%;\" class=\"plotly-graph-div\"></div><script type=\"text/javascript\">require([\"plotly\"], function(Plotly) { window.PLOTLYENV=window.PLOTLYENV || {};window.PLOTLYENV.BASE_URL=\"https://plot.ly\";Plotly.newPlot(\"94c9b503-4b3d-4a3f-8c26-16c99985258a\", [{\"y\": [\"Monday\", \"Monday\", \"Monday\", \"Monday\", \"Monday\", \"Monday\", \"Monday\", \"Tuesday\", \"Tuesday\", \"Tuesday\", \"Tuesday\", \"Tuesday\", \"Tuesday\", \"Tuesday\", \"Wednesday\", \"Wednesday\", \"Wednesday\", \"Wednesday\", \"Wednesday\", \"Wednesday\", \"Wednesday\", \"Thursday\", \"Thursday\", \"Thursday\", \"Thursday\", \"Thursday\", \"Thursday\", \"Thursday\", \"Friday\", \"Friday\", \"Friday\", \"Friday\", \"Friday\", \"Friday\", \"Friday\", \"Saturday\", \"Saturday\", \"Saturday\", \"Saturday\", \"Saturday\", \"Saturday\", \"Saturday\", \"Sunday\", \"Sunday\", \"Sunday\", \"Sunday\", \"Sunday\", \"Sunday\", \"Sunday\"], \"showlegend\": false, \"mode\": \"markers\", \"text\": [1, 0, 1, 4, 1, 4, 2, 1, 0, 1, 0, 1, 0, 3, 3, 3, 0, 1, 0, 2, 3, 1, 4, 1, 1, 1, 0, 3, 3, 1, 0, 1, 1, 1, 2, 1, 2, 4, 0, 4, 1, 1, 0, 2, 0, 3, 2, 1, 4], \"type\": \"scatter\", \"x\": [1, 2, 3, 4, 5, 6, 7, 1, 2, 3, 4, 5, 6, 7, 1, 2, 3, 4, 5, 6, 7, 1, 2, 3, 4, 5, 6, 7, 1, 2, 3, 4, 5, 6, 7, 1, 2, 3, 4, 5, 6, 7, 1, 2, 3, 4, 5, 6, 7], \"marker\": {\"color\": [1, 0, 1, 4, 1, 4, 2, 1, 0, 1, 0, 1, 0, 3, 3, 3, 0, 1, 0, 2, 3, 1, 4, 1, 1, 1, 0, 3, 3, 1, 0, 1, 1, 1, 2, 1, 2, 4, 0, 4, 1, 1, 0, 2, 0, 3, 2, 1, 4], \"symbol\": \"circle\", \"line\": {\"width\": 2, \"color\": \"rgb(0, 0, 0)\"}, \"colorscale\": \"Jet\", \"colorbar\": {\"y\": 0.35, \"len\": 0.8}, \"showscale\": true, \"size\": [1, 0, 1, 4, 1, 4, 2, 1, 0, 1, 0, 1, 0, 3, 3, 3, 0, 1, 0, 2, 3, 1, 4, 1, 1, 1, 0, 3, 3, 1, 0, 1, 1, 1, 2, 1, 2, 4, 0, 4, 1, 1, 0, 2, 0, 3, 2, 1, 4]}, \"hoverinfo\": \"x+y+text\"}, {\"legendgroup\": \"legend_only\", \"y\": [\"Monday\"], \"showlegend\": true, \"mode\": \"markers\", \"visible\": \"legendonly\", \"name\": \"Min:  0.00\", \"x\": [1], \"marker\": {\"color\": \"rgb(0,0,131)\", \"symbol\": \"circle\", \"line\": {\"width\": 2, \"color\": \"rgb(0, 0, 0)\"}, \"size\": 0}, \"type\": \"scatter\", \"hoverinfo\": \"name\"}, {\"legendgroup\": \"legend_only\", \"y\": [\"Monday\"], \"showlegend\": true, \"mode\": \"markers\", \"visible\": \"legendonly\", \"name\": \"Mean: 1.55\", \"x\": [1], \"marker\": {\"color\": \"rgb(17.75510204081631, 255.0, 241.98979591836735)\", \"symbol\": \"circle\", \"line\": {\"width\": 2, \"color\": \"rgb(0, 0, 0)\"}, \"size\": 1.5510204081632653}, \"type\": \"scatter\", \"hoverinfo\": \"name\"}, {\"legendgroup\": \"legend_only\", \"y\": [\"Monday\"], \"showlegend\": true, \"mode\": \"markers\", \"visible\": \"legendonly\", \"name\": \"Max:  4.00\", \"x\": [1], \"marker\": {\"color\": \"rgb(128,0,0)\", \"symbol\": \"circle\", \"line\": {\"width\": 2, \"color\": \"rgb(0, 0, 0)\"}, \"size\": 4}, \"type\": \"scatter\", \"hoverinfo\": \"name\"}], {}, {\"linkText\": \"Export to plot.ly\", \"showLink\": {}})});</script>"
      ]
     },
     "metadata": {},
     "output_type": "display_data"
    }
   ],
   "source": [
    "d, l = punch_card(data['x'], data['y'], data['value'],\n",
    "                 normalize=False,\n",
    "                 equal_size_markers=False)\n",
    "plotly.plotly.iplot(plotly.graph_objs.Figure(data=d, layout=l))\n"
   ]
  },
  {
   "cell_type": "code",
   "execution_count": 802,
   "metadata": {
    "collapsed": false
   },
   "outputs": [
    {
     "name": "stdout",
     "output_type": "stream",
     "text": [
      "Colors are taken from values\n"
     ]
    },
    {
     "data": {
      "text/html": [
       "<iframe id=\"igraph\" scrolling=\"no\" style=\"border:none;\" seamless=\"seamless\" src=\"https://plot.ly/~MaxPeters/378.embed\" height=\"525px\" width=\"400px\"></iframe>"
      ],
      "text/plain": [
       "<plotly.tools.PlotlyDisplay object>"
      ]
     },
     "execution_count": 802,
     "metadata": {},
     "output_type": "execute_result"
    }
   ],
   "source": [
    "y_len = 7\n",
    "y=['Monday', 'Tuesday', 'Wednesday', 'Thursday', 'Friday', 'Saturday', 'Sunday']\n",
    "data = dict(x=[i for i in range(1, y_len + 1)], \n",
    "            y=y,\n",
    "            value = [random.randrange(0,5) for i in range(7 * len(y))]\n",
    "           )\n",
    "greens = [(0, 'rgb(128,128,128)')] \n",
    "greens.append((0.2, 'rgb(128,128,128)'))\n",
    "for i in range(4):\n",
    "    greens.append((i * 0.2 + 0.2, colorlover.flipper()['seq']['4']['Greens'][i]))\n",
    "    greens.append((i * 0.2 + 0.4, colorlover.flipper()['seq']['4']['Greens'][i]))\n",
    "\n",
    "d, l = punch_card(data['x'], data['y'], data['value'], \n",
    "                  verbose=True, \n",
    "                  max_size=20, \n",
    "                  marker_symbol='square', \n",
    "                  equal_size_markers=True, \n",
    "                  outer_color='rgb(0,0,0)',\n",
    "                  colorscale=greens,\n",
    "                  number_format='.0f',\n",
    "                  layout=dict(width=400,\n",
    "                              xaxis=dict(showgrid=False), \n",
    "                              yaxis=dict(showgrid=False)\n",
    "                             )\n",
    "                 )\n",
    "\n",
    "\n",
    "plotly.plotly.iplot(plotly.graph_objs.Figure(data=d, layout=l))"
   ]
  },
  {
   "cell_type": "code",
   "execution_count": 803,
   "metadata": {
    "collapsed": false
   },
   "outputs": [
    {
     "name": "stdout",
     "output_type": "stream",
     "text": [
      "Colors are taken from values\n"
     ]
    },
    {
     "data": {
      "text/html": [
       "<iframe id=\"igraph\" scrolling=\"no\" style=\"border:none;\" seamless=\"seamless\" src=\"https://plot.ly/~MaxPeters/380.embed\" height=\"525px\" width=\"400px\"></iframe>"
      ],
      "text/plain": [
       "<plotly.tools.PlotlyDisplay object>"
      ]
     },
     "execution_count": 803,
     "metadata": {},
     "output_type": "execute_result"
    }
   ],
   "source": [
    "reds.append((0.2, 'rgb(200,200,200)'))\n",
    "for i in range(4):\n",
    "    reds.append((i * 0.2 + 0.2, colorlover.flipper()['seq']['4']['Reds'][i]))\n",
    "    reds.append((i * 0.2 + 0.4, colorlover.flipper()['seq']['4']['Reds'][i]))\n",
    "\n",
    "d, l = punch_card(data['x'], data['y'], data['value'], \n",
    "                  verbose=True, \n",
    "                  max_size=20, \n",
    "                  marker_symbol='square', \n",
    "                  equal_size_markers=True, \n",
    "                  outer_color='rgb(0,0,0)',\n",
    "                  colorscale=reds,\n",
    "                  number_format='.0f',\n",
    "                  layout=dict(width=400,\n",
    "                              plot_bgcolor='black',\n",
    "                              paper_bgcolor='black',\n",
    "                              xaxis=dict(showgrid=False, tickfont=dict(color='white')), \n",
    "                              yaxis=dict(showgrid=False, tickfont=dict(color='white')),\n",
    "                              legend=dict(font=dict(color='white'))\n",
    "                             ),\n",
    "                  other_params=dict(textfont=dict(color='white'), marker=dict(colorbar=dict(tickfont=dict(color='white'))))\n",
    "                 )\n",
    "\n",
    "\n",
    "\n",
    "plotly.plotly.iplot(plotly.graph_objs.Figure(data=d, layout=l))"
   ]
  }
 ],
 "metadata": {
  "kernelspec": {
   "display_name": "Python 3",
   "language": "python",
   "name": "python3"
  },
  "language_info": {
   "codemirror_mode": {
    "name": "ipython",
    "version": 3
   },
   "file_extension": ".py",
   "mimetype": "text/x-python",
   "name": "python",
   "nbconvert_exporter": "python",
   "pygments_lexer": "ipython3",
   "version": "3.4.3"
  }
 },
 "nbformat": 4,
 "nbformat_minor": 2
}
